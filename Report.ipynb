{
 "cells": [
  {
   "cell_type": "markdown",
   "metadata": {},
   "source": [
    "CSC14003 – Artificial Intelligence\n",
    "===========================================================\n",
    "\n",
    "PROJECT 02: LOGICAL AGENT\n",
    "===========================================================\n",
    "\n",
    "Group :\n",
    "- 22127014 - Nguyễn Kim Anh\n",
    "- 22127092 - Lê Bảo Giang\n",
    "- 22127433 - Nguyễn Ngọc Anh Tú\n",
    "- 22127460 - Quách Trần Quán Vinh"
   ]
  },
  {
   "cell_type": "markdown",
   "metadata": {},
   "source": [
    "# **I. Assignment Plan**"
   ]
  },
  {
   "cell_type": "markdown",
   "metadata": {},
   "source": [
    "- Setup the environment and download the necessary library\n",
    "- Implement the `Program` class for map handling and pecept updates.\n",
    "    + Map reading and initalization\n",
    "    + Percept updates\n",
    "    + Visualization: `draw_grid` to render the grid\n",
    "- Implement the `Agent` class for agent behavior and knowledge base updates.\n",
    "    + Agent movement and actions: `move_forward`, `turn_left`, `turn_right`, `turn_around`\n",
    "    + Percept handling: `perceive_current_cell`, `infer_surroundings` in `Agent`\n",
    "    + Knowledge base updates and logical reasoning: `update_KB`, `PL_resolve`, `PL_resolution`\n",
    "    + Decision making: `make_safe_move`, `explore`, `backtrack_to_start`\n",
    "- Testing and debugging\n",
    "- Documentation:\n",
    "    + Write the report\n",
    "    + Write the code documentation: comments and docstrings"
   ]
  },
  {
   "cell_type": "markdown",
   "metadata": {},
   "source": [
    "# **II. Project information**"
   ]
  },
  {
   "cell_type": "markdown",
   "metadata": {},
   "source": [
    "## **1. Environment setup**\n",
    "- Python\n",
    "- Pygame: This library is used for the graphical interface. Install it using pip: `pip install pygame`\n",
    "- SymPy: This library is used for symbolic mathematics. Install it using pip: `pip install sympy`\n",
    "\n",
    "## **2. Running the program**\n",
    "- Execute the main file `main.py` to run the project.\n"
   ]
  },
  {
   "cell_type": "markdown",
   "metadata": {},
   "source": [
    "# **III. Self evaluation**\n",
    "\n",
    "| Task | Evaluation | Completion |\n",
    "| :---- | :--------- | :--------- |\n",
    "| Finish problem successfully | Finished but there were some difficulties. Mostly from the unclear or unexplained or non existence requirements and cases. | 100% |\n",
    "| Graphical demonstration of each step of the running process | Finish it quickly after we had finished coding the path finding process. | 100% |\n",
    "| Generate at 5 maps with difference structures: position and number of Pit, Gold and Wumpus | Finish it quickly after we had finished coding the path finding process. | 100% |\n",
    "| Report your algorithm, experiment with some reflection or comments | It is done quite quickly as we had already coded all of the requirements. | 100% |"
   ]
  },
  {
   "cell_type": "markdown",
   "metadata": {},
   "source": [
    "# **IV. Basic Implement**"
   ]
  },
  {
   "cell_type": "markdown",
   "metadata": {},
   "source": [
    "## **Class `agent`**"
   ]
  },
  {
   "cell_type": "markdown",
   "metadata": {},
   "source": [
    "### **Attribute**\n",
    "\n",
    "Attribute | Description\n",
    "------ | ------\n",
    "KB | A list of clauses that the agent knows\n",
    "start | constant = (1, 1)\n",
    "pos | constant = (1, 1)\n",
    "program | Current program\n",
    "grid_size | Current program size\n",
    "*list*  tracked_map | A map which has same size with program size for tracking cell, initialized with 0\n",
    "facing | The current direction, nititialized the first facing is NORTH\n",
    "*set*   visited | set of visited cell\n",
    "*int*   point | Score of agent (inititalize 0 at beginning)\n",
    "*list* tracked_path | Track the path taken by agent"
   ]
  },
  {
   "cell_type": "markdown",
   "metadata": {},
   "source": [
    "### **Method**\n",
    "`perceive_current_cell(self)`\n",
    "- Input parameter: None\n",
    "- Output parameter: The percepts of the current cell\n",
    "- Description: Returns the percepts of the current cell the agent is in\n",
    "\n",
    "`infer_surroundings(self, element)`\n",
    "- Input parameter: The element to infer\n",
    "- Output parameter: A list of symbols representing the inferred surroundings\n",
    "- Description: Infers the surroundings of the current cell for the given element\n",
    "\n",
    "`infer_surroundings(self, element)`\n",
    "- Input parameter: The element to infer\n",
    "- Output parameter: A list of symbols representing the inferred surroundings\n",
    "- Description: Infers the surroundings of the current cell for the given element\n",
    "\n",
    "`update_KB(self)`\n",
    "- Input parameter: None\n",
    "- Output parameter: None\n",
    "- Description: Updates the knowledge base of the agent based on the current percepts\n",
    "\n",
    "`turn_left(self)`\n",
    "- Input parameter: None\n",
    "- Output parameter: The cost of turning left\n",
    "- Description: Turns the agent to the left and returns the cost of the action\n",
    "\n",
    "`turn_right(self)`\n",
    "- Input parameter: None\n",
    "- Output parameter: The cost of turning right\n",
    "- Description: Turns the agent to the right and returns the cost of the action\n",
    "\n",
    "`turn_around(self)`\n",
    "- Input parameter: None\n",
    "- Output parameter: The cost of turning around\n",
    "- Description: Turns the agent around and returns the cost of the action\n",
    "\n",
    "`move_forward(self)`\n",
    "- Input parameter: None\n",
    "- Output parameter: The cost of moving forward\n",
    "- Description: Moves the agent forward and returns the cost of the action\n",
    "\n",
    "`make_safe_move(self, node)`\n",
    "- Input parameter: The node to move\n",
    "- Output parameter: The new node after making a safe move if it is posible\n",
    "- Description: Makes a safe move from the current node and returns the new node\n",
    "\n",
    "`align_direction(self, desired_direction)`\n",
    "- Input parameter: The desired direction\n",
    "- Output parameter: The cost of aligning the direction\n",
    "- Description: Aligns the agent's direction to the desired direction and returns the cost of the action\n",
    "\n",
    "`explore(self)`\n",
    "- Input parameter: None\n",
    "- Output parameter: The node where the gold is found, or None if exploration ends without finding gold\n",
    "- Description: Explores the grid until the gold is found\n",
    "\n",
    "`backtrack_to_start(self)`\n",
    "- Input parameter: None\n",
    "- Output parameter: The cost of backtracking to the start\n",
    "- Description: Backtracks to the start of the grid and returns the cost of the action\n",
    "\n",
    "`PL_resolve(self, literal, Ci, Cj)`\n",
    "- Input parameter: The literal to resolve, and the two clauses to resolve\n",
    "- Output parameter: The resolvent of the two clauses\n",
    "- Description: Resolves the two clauses and returns the resolvent\n",
    "\n",
    "`PL_resolution(self, query)`\n",
    "- Input parameter: The query to resolve\n",
    "- Output parameter: True if the query is entailed by the knowledge base, False otherwise\n",
    "- Description: Uses the PL resolution algorithm to determine if the query is entailed by the knowledge base\n",
    "\n",
    "`die(self)`\n",
    "- Input parameter: None\n",
    "- Output parameter: None\n",
    "- Description: Handles the agent's death and exit the program"
   ]
  },
  {
   "cell_type": "markdown",
   "metadata": {},
   "source": [
    "## **Class `Program`**"
   ]
  },
  {
   "cell_type": "markdown",
   "metadata": {},
   "source": [
    "### **Attribute**\n",
    "\n",
    "Attribute | Description\n",
    "------ | ------\n",
    "*list*  map | Read from input file\n",
    "*int*   size | Size of map (read from input file)\n",
    "cell_size | const cell_size = 75\n",
    "*int*   width, height | size of cell"
   ]
  },
  {
   "cell_type": "markdown",
   "metadata": {},
   "source": [
    "### **Method**"
   ]
  },
  {
   "cell_type": "markdown",
   "metadata": {},
   "source": [
    "`set_screen_size(self)`\n",
    "- Input parameter: None\n",
    "- Output parameter: None\n",
    "- Description: Set screen size\n",
    "\n",
    "`load_map(self, input_file)`\n",
    "- Input parameter: `input_file` (input file)\n",
    "- Output parameter: None\n",
    "- Description: Load map from input file and update percepts\n",
    "\n",
    "`read_map(self, input_file)`\n",
    "- Input parameter: `input_file` (input file)\n",
    "- Output parameter: `grid` and `size` of map\n",
    "- Description: Read map from input file\n",
    "\n",
    "`update_percepts(self)`\n",
    "- Input paramenter: None\n",
    "- Output parameter: None\n",
    "- Description: Handle cell with multiple percepts by checking specific combinations in a single cell\n",
    "\n",
    "`mark_visited(self, pos)`\n",
    "- Input parameter: `pos` (location where agent has visited)\n",
    "- Output parameter: None\n",
    "- Description: Mark the position on map at cell that agent has visited by `self.map[self.size - x][y - 1] += '.V'`\n",
    "\n",
    "`add_percept(self, x, y, percept)`\n",
    "- Input parameter: `x`, `y`, `percept`\n",
    "- Output parameter: None\n",
    "- Description: Add percept to cell at position (x, y) and the adjacent cells by append to cell `'.' + percept`\n",
    "\n",
    "`remove_gold(self, pos)`\n",
    "- Input parameter: `pos` (location where agent has found gold)\n",
    "- Output parameter: None\n",
    "- Description: Removes the gold from a specified position on the map\n",
    "\n",
    "`remove_element(self, pos, element)`\n",
    "- Input parameter: `pos` (location), `element` (element to remove)\n",
    "- Output parameter: None\n",
    "- Description: Removes a specified element and its associated percept from the map\n",
    "\n",
    "`draw_grid(self)`\n",
    "- Input parameter: None\n",
    "- Output parameter: None\n",
    "- Description: Draw grid using `pygame` library\n",
    "\n",
    "`run(self)`\n",
    "- Input parameter: None\n",
    "- Output parameter: None\n",
    "- Description: Run the program using `pygame`\n",
    "\n",
    "`get_cell_info(self, pos)`\n",
    "- Input parameter: `pos` (location)\n",
    "- Output parameter: return cell information (S, W, P, ...)\n",
    "- Description: Get cell information `self.map[self.size - x][y-1]`\n",
    "\n",
    "`move_agent(self, pos, direction, step)`\n",
    "- Input parameter: `pos`, `direction`, `step` (step to move)\n",
    "- Output parameter: None\n",
    "- Description: Moves the agent to a new position and updates the display\n",
    "\n",
    "`clear_agent(self.pos)`\n",
    "- Input parameter: `pos` (location)\n",
    "- Output parameter: None\n",
    "- Description: Clears the agent's image from the specified position on the screen\n",
    "\n",
    "`draw_agent(self, pos, direction)`\n",
    "- Input parameter: pos (position), direction (direction)\n",
    "- Output parameter: None\n",
    "- Description: Draws the agent at the specified position and direction on the screen\n",
    "\n",
    "`add_action(self, action)`\n",
    "- Input parameter: action (action to add)\n",
    "- Output parameter: None\n",
    "- Description: Adds an action to the action log and updates the display\n",
    "\n",
    "`draw_action_log(self)`\n",
    "- Input parameter: None\n",
    "- Output parameter: None\n",
    "- Description: Draws the action log on the screen\n",
    "\n",
    "`draw_action_log(self)`\n",
    "- Input parameter: None\n",
    "- Output parameter: None\n",
    "- Description: Draws the action log on the screen\n",
    "\n",
    "`handle_scroll(self, event)`\n",
    "- Input parameter: event (scroll event)\n",
    "- Output parameter: None\n",
    "- Description: Handles scrolling in the action log\n",
    "\n",
    "`update_status(self, health, point, healing_potions=0)`\n",
    "- Input parameter: health (current health), point (current points), healing_potions (number of healing potions, default is 0)\n",
    "- Output parameter: None\n",
    "- Description: Updates the status display with the current health, points, and healing potions\n",
    "\n",
    "`select_button(self, button)`\n",
    "- Input parameter: button (button to select)\n",
    "- Output parameter: None\n",
    "- Description: Selects a map button and updates the display\n",
    "\n",
    "`draw_buttons(self)`\n",
    "- Input parameter: None\n",
    "- Output parameter: None\n",
    "- Description: Draws the map and control buttons on the screen.\n",
    "\n",
    "`handle_button_click(self, event)`\n",
    "- Input parameter: event (button click event)\n",
    "- Output parameter: None\n",
    "- Description: Handles button click events for map selection and control buttons\n",
    "\n",
    "`move_agent_back(self)`\n",
    "- Input parameter: None\n",
    "- Output parameter: None\n",
    "- Description: Moves the agent back one step\n",
    "\n",
    "`move_agent_forward(self)`\n",
    "- Input parameter: None\n",
    "- Output parameter: None\n",
    "- Description: Moves the agent forward one step\n",
    "\n",
    "`show_percepts(self, pos)`\n",
    "- Input parameter: pos (position)\n",
    "- Output parameter: None\n",
    "- Description: Displays the percepts for the specified position on the screen\n",
    "\n",
    "`reset_map(self)`\n",
    "- Input parameter: None\n",
    "- Output parameter: None\n",
    "- Description: Resets the map, agent position, and logs to their initial states\n",
    "\n",
    "`print_map(self)`\n",
    "- Input parameter: None\n",
    "- Output parameter: None\n",
    "- Description: Print map to console\n",
    "\n",
    "`update_cellinfor(self, pos, infor)`\n",
    "- Input parameter: pos (position), infor (information to update)\n",
    "- Output parameter: None\n",
    "- Description: Updates the information of the specified cell\n",
    "\n",
    "`mark_cell_safe(self, pos)`\n",
    "- Input parameter: pos (position)\n",
    "- Output parameter: None\n",
    "- Description: Marks the specified cell as safe"
   ]
  },
  {
   "cell_type": "markdown",
   "metadata": {},
   "source": [
    "# **V. Knowledge base and PL - resolution**"
   ]
  },
  {
   "cell_type": "markdown",
   "metadata": {},
   "source": [
    "**Knowledge base:**<br>\n",
    "\n",
    "- At first, the KB (Knowledge base) will have:\n",
    " $$B_{xy} \\leftrightarrow (P_{x+1,y} \\lor P_{x-1,y} \\lor P_{x,y+1} \\lor P_{x,y-1})$$\n",
    "- With each cell travelled, KB will be updated accordingly\n",
    "\n",
    "- The `update_KB` method updates the KB with new information based on the agent's percepts. For example, if the agent perceives a Breeze at cell (x, y), it adds the proposition $( B_{xy} \\leftrightarrow (P_{x+1,y} \\lor P_{x-1,y} \\lor P_{x,y+1} \\lor P_{x,y-1}) )$ to the KB.\n",
    "\n",
    "- Percepts: The agent perceives the current cell to determine if there are any hazards (Breeze, Stench, Whiff, Glow)\n",
    "- Actions: The agent can move forward, turn left, turn right, turn around, or shoot an arrow\n",
    "- Neighboring cell: The neighboring cells of a given cell (x, y) are (x+1, y), (x-1, y), (x, y+1), and (x, y-1), provided they are within the grid boundaries\n",
    "- If there is a Breeze in the current cell, then at least one of the neighboring cells contains a Pit\n",
    "\n",
    "- If there is no Breeze in the current cell (x, y), then none of the neighboring cells contain a Pit\n",
    "\n",
    "- If there is a Stench in the current cell (x, y), then at least one of the neighboring cells contains a Wumpus\n",
    "\n",
    "- If there is no Stench in the current cell (x, y), then none of the neighboring cells contain a Wumpus\n",
    "\n",
    "- If there is a Whiff in the current cell (x, y), then at least one of the neighboring cells contains a Healing Potion\n",
    "\n",
    "- If there is no Whiff in the current cell (x, y), then none of the neighboring cells contain a Healing Potion\n",
    "\n",
    "- If there is a Glow in the current cell (x, y), then at least one of the neighboring cells contains a Poison Gas\n",
    "\n",
    "- If there is no Glow in the current cell (x, y), then none of the neighboring cells contain a Poison Gas\n",
    "\n",
    "- If there is a Wumpus or a Pit in the current cell (x, y), the agent dies\n",
    "\n",
    "- Safe Cells:\n",
    "    + The current cell (x, y) is safe if it does not contain a Wumpus or a Pit\n",
    "- Health and status updates:\n",
    "    + If there is Poison Gas in the current cell (x, y), the agent's health decreases by 25 points\n",
    "    + The agent's status is updated based on the current health, points, and available health potions\n",
    "\n",
    "**PL - resolution**\n",
    "- The `PL_resolution` method is used to check if a query can be inferred from the KB: if $( A \\lor B )$ and $( \\neg A \\lor C )$ are both true, then $( B \\lor C )$ must also be true. The method iteratively applies the resolution rule to pairs of clauses until either a contradiction is found (indicating the query is true) or no new information can be derived (indicating the query is false)"
   ]
  },
  {
   "cell_type": "markdown",
   "metadata": {},
   "source": [
    "# **VI. Test cases and results**"
   ]
  },
  {
   "attachments": {
    "image-4.png": {
     "image/png": "[encoded data removed]"
    }
   },
   "cell_type": "markdown",
   "metadata": {},
   "source": [
    "## **1. Test case 1: Grid  4x4**\n",
    "- File name: `map1.txt`\n",
    "- Description:\n",
    "    + 1 Wumpus\n",
    "    + 1 Gold\n",
    "    + 3 Pits\n",
    "    + 1 Healing Potion\n",
    "    + 1 Poisonous Gas\n",
    "    \n",
    "![image-4.png](attachment:image-4.png)\n",
    "\n",
    "- Result:\n",
    "\n",
    "\n",
    "- Solution: \n",
    "\n"
   ]
  },
  {
   "attachments": {
    "image-3.png": {
     "image/png": "[encoded data removed]"
    }
   },
   "cell_type": "markdown",
   "metadata": {},
   "source": [
    "## **2. Test case 2: Grid  5x5**\n",
    "- File name: `map2.txt`\n",
    "- Description:\n",
    "    + 1 Wumpus\n",
    "    + 1 Gold\n",
    "    + 4 Pits\n",
    "    + 1 Healing Potion\n",
    "    + 2 Poisonous Gas\n",
    "\n",
    "\n",
    "![image-3.png](attachment:image-3.png)\n",
    "\n",
    "- Result:\n",
    "\n",
    "\n",
    "\n",
    "- Solution: "
   ]
  },
  {
   "attachments": {
    "image-3.png": {
     "image/png": "[encoded data removed]"
    }
   },
   "cell_type": "markdown",
   "metadata": {},
   "source": [
    "## **3. Test case 3: Grid  8x8**\n",
    "- File name: `map3.txt`\n",
    "- Description:\n",
    "    + 1 Wumpus\n",
    "    + 1 Gold\n",
    "    + 5 Pits\n",
    "    + 3 Healing Potion\n",
    "    + 3 Poisonous Gas\n",
    "\n",
    "![image-3.png](attachment:image-3.png)\n",
    "\n",
    "- Result:\n",
    "\n",
    "\n",
    "\n",
    "- Solution:\n",
    "\n"
   ]
  },
  {
   "attachments": {
    "image-3.png": {
     "image/png": "[encoded data removed]"
    }
   },
   "cell_type": "markdown",
   "metadata": {},
   "source": [
    "## **4. Test case 4: Grid  7x7**\n",
    "- File name: `map4.txt`\n",
    "- Description:\n",
    "    + 1 Wumpus\n",
    "    + 1 Gold\n",
    "    + 7 Pits\n",
    "    + 3 Healing Potion\n",
    "    + 3 Poisonous Gas\n",
    "\n",
    "![image-3.png](attachment:image-3.png)\n",
    "\n",
    "- Result:\n"
   ]
  },
  {
   "attachments": {
    "image-3.png": {
     "image/png": "[encoded data removed]"
    }
   },
   "cell_type": "markdown",
   "metadata": {},
   "source": [
    "## **5. Test case 5: Grid  10x10**\n",
    "- File name: `map5.txt`\n",
    "- Description:\n",
    "    + 1 Wumpus\n",
    "    + 1 Gold\n",
    "    + 12 Pits\n",
    "    + 5 Healing Potion\n",
    "    + 5 Poisonous Gas\n",
    "\n",
    "![image-3.png](attachment:image-3.png)\n",
    "\n",
    "- Result:\n",
    "\n",
    "\n",
    "\n",
    "- Solution:\n",
    "\n"
   ]
  },
  {
   "cell_type": "markdown",
   "metadata": {},
   "source": [
    "# **VII. References**\n",
    "\n",
    "- Slide from lecturer\n",
    "- https://www.cs.mcgill.ca/~dprecup/courses/AI/Lectures/ai-lecture08.pdf\n"
   ]
  }
 ],
 "metadata": {
  "kernelspec": {
   "display_name": "Python 3 (ipykernel)",
   "language": "python",
   "name": "python3"
  },
  "language_info": {
   "codemirror_mode": {
    "name": "ipython",
    "version": 3
   },
   "file_extension": ".py",
   "mimetype": "text/x-python",
   "name": "python",
   "nbconvert_exporter": "python",
   "pygments_lexer": "ipython3",
   "version": "3.11.7"
  }
 },
 "nbformat": 4,
 "nbformat_minor": 4
}
