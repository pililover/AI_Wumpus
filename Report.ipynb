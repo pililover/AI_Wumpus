{
 "cells": [
  {
   "cell_type": "markdown",
   "metadata": {},
   "source": [
    "CSC14003 – Artificial Intelligence\n",
    "===========================================================\n",
    "\n",
    "PROJECT 02: LOGICAL AGENT\n",
    "===========================================================\n",
    "\n",
    "Group :\n",
    "- 22127014 - Nguyễn Kim Anh\n",
    "- 22127092 - Lê Bảo Giang\n",
    "- 22127433 - Nguyễn Ngọc Anh Tú\n",
    "- 22127460 - Quách Trần Quán Vinh"
   ]
  },
  {
   "cell_type": "markdown",
   "metadata": {},
   "source": [
    "# **I. Assignment Plan**"
   ]
  },
  {
   "cell_type": "markdown",
   "metadata": {},
   "source": [
    "- Setup the environment and download the necessary library\n",
    "- Implement the `Program` class for map handling and pecept updates.\n",
    "    + Map reading and initalization\n",
    "    + Percept updates\n",
    "    + Visualization: `draw_grid` to render the grid\n",
    "- Implement the `Agent` class for agent behavior and knowledge base updates.\n",
    "    + Agent movement and actions: `move_forward`, `turn_left`, `turn_right`, `turn_around`\n",
    "    + Percept handling: `perceive_current_cell`, `infer_surroundings` in `Agent`\n",
    "    + Knowledge base updates and logical reasoning: `update_KB`, `PL_resolve`, `PL_resolution`\n",
    "    + Decision making: `make_safe_move`, `explore`, `backtrack_to_start`\n",
    "- Testing and debugging\n",
    "- Documentation:\n",
    "    + Write the report\n",
    "    + Write the code documentation: comments and docstrings"
   ]
  },
  {
   "cell_type": "markdown",
   "metadata": {},
   "source": [
    "# **II. Project information**"
   ]
  },
  {
   "cell_type": "markdown",
   "metadata": {},
   "source": [
    "## **1. Environment setup**\n",
    "- Python\n",
    "- Pygame: This library is used for the graphical interface. Install it using pip: `pip install pygame`\n",
    "- SymPy: This library is used for symbolic mathematics. Install it using pip: `pip install sympy`\n",
    "\n",
    "## **2. Running the program**\n",
    "- Execute the main file `main.py` to run the project.\n"
   ]
  },
  {
   "cell_type": "markdown",
   "metadata": {},
   "source": [
    "# **III. Self evaluation**\n",
    "\n",
    "| Task | Evaluation | Completion |\n",
    "| :---- | :--------- | :--------- |\n",
    "| Finish problem successfully |  |  |\n",
    "| Graphical demonstration of each step of the running process |  |  |\n",
    "| Generate at 5 maps with difference structures: position and number of Pit, Gold and Wumpus |  |  |\n",
    "| Report your algorithm, experiment with some reflection or comments |  |  |"
   ]
  },
  {
   "cell_type": "markdown",
   "metadata": {},
   "source": [
    "# **I. Basic Implement**"
   ]
  },
  {
   "cell_type": "markdown",
   "metadata": {},
   "source": [
    "## **Class `agent`**"
   ]
  },
  {
   "cell_type": "markdown",
   "metadata": {},
   "source": [
    "### **Attribute**\n",
    "\n",
    "Attribute | Description\n",
    "------ | ------\n",
    "KB | A list of clauses that the agent knows\n",
    "start | constant = (1, 1)\n",
    "pos | constant = (1, 1)\n",
    "program | Current program\n",
    "grid_size | Current program size\n",
    "*list*  tracked_map | A map which has same size with program size for tracking cell, initialized with 0\n",
    "facing | The current direction, nititialized the first facing is NORTH\n",
    "*set*   visited | set of visited cell\n",
    "*int*   point | Score of agent (inititalize 0 at beginning)\n",
    "*list* tracked_path | Track the path taken by agent"
   ]
  },
  {
   "cell_type": "markdown",
   "metadata": {},
   "source": [
    "### **Method**\n",
    "`perceive_current_cell(self)`\n",
    "- Input parameter: None\n",
    "- Output parameter: The percepts of the current cell\n",
    "- Description: Returns the percepts of the current cell the agent is in\n",
    "\n",
    "`infer_surroundings(self, element)`\n",
    "- Input parameter: The element to infer\n",
    "- Output parameter: A list of symbols representing the inferred surroundings\n",
    "- Description: Infers the surroundings of the current cell for the given element\n",
    "\n",
    "`infer_surroundings(self, element)`\n",
    "- Input parameter: The element to infer\n",
    "- Output parameter: A list of symbols representing the inferred surroundings\n",
    "- Description: Infers the surroundings of the current cell for the given element\n",
    "\n",
    "`update_KB(self)`\n",
    "- Input parameter: None\n",
    "- Output parameter: None\n",
    "- Description: Updates the knowledge base of the agent based on the current percepts\n",
    "\n",
    "`turn_left(self)`\n",
    "- Input parameter: None\n",
    "- Output parameter: The cost of turning left\n",
    "- Description: Turns the agent to the left and returns the cost of the action\n",
    "\n",
    "`turn_right(self)`\n",
    "- Input parameter: None\n",
    "- Output parameter: The cost of turning right\n",
    "- Description: Turns the agent to the right and returns the cost of the action\n",
    "\n",
    "`turn_around(self)`\n",
    "- Input parameter: None\n",
    "- Output parameter: The cost of turning around\n",
    "- Description: Turns the agent around and returns the cost of the action\n",
    "\n",
    "`move_forward(self)`\n",
    "- Input parameter: None\n",
    "- Output parameter: The cost of moving forward\n",
    "- Description: Moves the agent forward and returns the cost of the action\n",
    "\n",
    "`make_safe_move(self, node)`\n",
    "- Input parameter: The node to move\n",
    "- Output parameter: The new node after making a safe move if it is posible\n",
    "- Description: Makes a safe move from the current node and returns the new node\n",
    "\n",
    "`align_direction(self, desired_direction)`\n",
    "- Input parameter: The desired direction\n",
    "- Output parameter: The cost of aligning the direction\n",
    "- Description: Aligns the agent's direction to the desired direction and returns the cost of the action\n",
    "\n",
    "`explore(self)`\n",
    "- Input parameter: None\n",
    "- Output parameter: The node where the gold is found, or None if exploration ends without finding gold\n",
    "- Description: Explores the grid until the gold is found\n",
    "\n",
    "`backtrack_to_start(self)`\n",
    "- Input parameter: None\n",
    "- Output parameter: The cost of backtracking to the start\n",
    "- Description: Backtracks to the start of the grid and returns the cost of the action\n",
    "\n",
    "`PL_resolve(self, literal, Ci, Cj)`\n",
    "- Input parameter: The literal to resolve, and the two clauses to resolve\n",
    "- Output parameter: The resolvent of the two clauses\n",
    "- Description: Resolves the two clauses and returns the resolvent\n",
    "\n",
    "`PL_resolution(self, query)`\n",
    "- Input parameter: The query to resolve\n",
    "- Output parameter: True if the query is entailed by the knowledge base, False otherwise\n",
    "- Description: Uses the PL resolution algorithm to determine if the query is entailed by the knowledge base\n",
    "\n",
    "`die(self)`\n",
    "- Input parameter: None\n",
    "- Output parameter: None\n",
    "- Description: Handles the agent's death and exit the program"
   ]
  },
  {
   "cell_type": "markdown",
   "metadata": {},
   "source": [
    "## **Class `Program`**"
   ]
  },
  {
   "cell_type": "markdown",
   "metadata": {},
   "source": [
    "### **Attribute**\n",
    "\n",
    "Attribute | Description\n",
    "------ | ------\n",
    "*list*  map | Read from input file\n",
    "*int*   size | Size of map (read from input file)\n",
    "cell_size | const cell_size = 75\n",
    "*int*   width, height | size of cell"
   ]
  },
  {
   "cell_type": "markdown",
   "metadata": {},
   "source": [
    "### **Method**"
   ]
  },
  {
   "cell_type": "markdown",
   "metadata": {},
   "source": [
    "`read_map(self, input_file)`\n",
    "- Input parameter: `input_file` (input file)\n",
    "- Output parameter: `grid` and `size` of map\n",
    "- Description: Read map from input file\n",
    "\n",
    "`update_percepts(self)`\n",
    "- Input paramenter: None\n",
    "- Output parameter: None\n",
    "- Description: Handle cell with multiple percepts by checking specific combinations in a single cell\n",
    "\n",
    "`mark_visited(self, pos)`\n",
    "- Input parameter: `pos` (location where agent has visited)\n",
    "- Output parameter: None\n",
    "- Description: Mark the position on map at cell that agent has visited by `self.map[self.size - x][y - 1] += '.V'`\n",
    "\n",
    "`add_percept(self, x, y, percept)`\n",
    "- Input parameter: `x`, `y`, `percept`\n",
    "- Output parameter: None\n",
    "- Description: Add percept to cell at position (x, y) and the adjacent cells by append to cell `'.' + percept`\n",
    "\n",
    "`draw_grid(self)`\n",
    "- Input parameter: None\n",
    "- Output parameter: None\n",
    "- Description: Draw grid using `pygame` library\n",
    "\n",
    "`run(self)`\n",
    "- Input parameter: None\n",
    "- Output parameter: None\n",
    "- Description: Run the program using `pygame`\n",
    "\n",
    "`get_cell_info(self, pos)`\n",
    "- Input parameter: `pos` (location)\n",
    "- Output parameter: return cell information (S, W, P, ...)\n",
    "- Description: Get cell information `self.map[self.size - x][y-1]`\n",
    "\n",
    "`print_map(self)`\n",
    "- Input parameter: None\n",
    "- Output parameter: None\n",
    "- Description: Print map to console"
   ]
  },
  {
   "cell_type": "markdown",
   "metadata": {},
   "source": [
    "# **II. Knowledge base**"
   ]
  },
  {
   "cell_type": "markdown",
   "metadata": {},
   "source": []
  },
  {
   "cell_type": "markdown",
   "metadata": {},
   "source": [
    "# **III. Test cases**"
   ]
  },
  {
   "cell_type": "markdown",
   "metadata": {},
   "source": []
  },
  {
   "cell_type": "markdown",
   "metadata": {},
   "source": [
    "# **IV. "
   ]
  }
 ],
 "metadata": {
  "language_info": {
   "name": "python"
  }
 },
 "nbformat": 4,
 "nbformat_minor": 2
}
