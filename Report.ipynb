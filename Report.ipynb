{
 "cells": [
  {
   "cell_type": "markdown",
   "metadata": {},
   "source": [
    "CSC14003 – Artificial Intelligence\n",
    "===========================================================\n",
    "\n",
    "PROJECT 02: LOGICAL AGENT\n",
    "===========================================================\n",
    "\n",
    "Group :\n",
    "- 22127014 - Nguyễn Kim Anh\n",
    "- 22127092 - Lê Bảo Giang\n",
    "- 22127433 - Nguyễn Ngọc Anh Tú\n",
    "- 2212 - Quách Trần Quán Vinh"
   ]
  },
  {
   "cell_type": "markdown",
   "metadata": {},
   "source": [
    "# **I. Basic Implement**"
   ]
  },
  {
   "cell_type": "markdown",
   "metadata": {},
   "source": [
    "## **Class `agent`**"
   ]
  },
  {
   "cell_type": "markdown",
   "metadata": {},
   "source": [
    "Variable | Description\n",
    "------ | ------\n",
    "KB | A list of clauses that the agent knows\n",
    "start | constant = (1, 1)\n",
    "pos | constant = (1, 1)\n",
    "program | current program\n",
    "grid_size | current program size\n",
    "*list*  tracked_map | A map which has same size with program size for tracking cell\n",
    "facing | Inititialize the first facing is NORTH\n",
    "*set*   visited | set of visited cell\n",
    "*int*   point | Score of agent (inititalize 0 at beginning)"
   ]
  },
  {
   "cell_type": "markdown",
   "metadata": {},
   "source": []
  },
  {
   "cell_type": "markdown",
   "metadata": {},
   "source": [
    "## **Class `Program`**"
   ]
  },
  {
   "cell_type": "markdown",
   "metadata": {},
   "source": [
    "Variable | Description\n",
    "------ | ------\n",
    "*list*  map | Read from input file\n",
    "*int*   size | Size of map (read from input file)\n",
    "cell_size | const cell_size = 75\n",
    "*int*   width, height | size of cell"
   ]
  },
  {
   "cell_type": "markdown",
   "metadata": {},
   "source": [
    "## **Method**"
   ]
  },
  {
   "cell_type": "markdown",
   "metadata": {},
   "source": [
    "`read_map(self, input_file)`\n",
    "- Input parameter: `input_file` (input file)\n",
    "- Output parameter: `grid` and `size` of map\n",
    "- Description: Read map from input file\n",
    "\n",
    "`update_percepts(self)`\n",
    "- Input paramenter: None\n",
    "- Output parameter: None\n",
    "- Description: Handle cell with multiple percepts by checking specific combinations in a single cell\n",
    "\n",
    "`mark_visited(self, pos)`\n",
    "- Input parameter: `pos` (location where agent has visited)\n",
    "- Output parameter: None\n",
    "- Description: Mark the position on map at cell that agent has visited by `self.map[self.size - x][y - 1] += '.V'`\n",
    "\n",
    "`add_percept(self, x, y, percept)`\n",
    "- Input parameter: `x`, `y`, `percept`\n",
    "- Output parameter: None\n",
    "- Description: Add percept to cell at position (x, y) and the adjacent cells by append to cell `'.' + percept`\n",
    "\n",
    "`draw_grid(self)`\n",
    "- Input parameter: None\n",
    "- Output parameter: None\n",
    "- Description: Draw grid using `pygame` library\n",
    "\n",
    "`run(self)`\n",
    "- Input parameter: None\n",
    "- Output parameter: None\n",
    "- Description: Run the program using `pygame`\n",
    "\n",
    "`get_cell_info(self, pos)`\n",
    "- Input parameter: `pos` (location)\n",
    "- Output parameter: return cell information (S, W, P, ...)\n",
    "- Description: Get cell information `self.map[self.size - x][y-1]`\n",
    "\n",
    "`print_map(self)`\n",
    "- Input parameter: None\n",
    "- Output parameter: None\n",
    "- Description: Print map to console"
   ]
  },
  {
   "cell_type": "markdown",
   "metadata": {},
   "source": []
  }
 ],
 "metadata": {
  "language_info": {
   "name": "python"
  }
 },
 "nbformat": 4,
 "nbformat_minor": 2
}
